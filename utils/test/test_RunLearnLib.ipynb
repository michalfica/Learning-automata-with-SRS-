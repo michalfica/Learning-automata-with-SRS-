{
 "cells": [
  {
   "cell_type": "code",
   "execution_count": null,
   "id": "b1b26dce",
   "metadata": {},
   "outputs": [],
   "source": [
    "import sys\n",
    "\n",
    "sys.path.append(\"../\")\n",
    "sys.path.append(\"../../utils\")\n",
    "\n",
    "from importlib import reload\n",
    "\n",
    "# ..............................................\n",
    "import runLearnLib.RunLearnLib as RunLearnLib\n",
    "reload(RunLearnLib)\n",
    "\n",
    "from runLearnLib.RunLearnLib import RunLearnLib\n",
    "# .............................................."
   ]
  },
  {
   "cell_type": "code",
   "execution_count": null,
   "id": "7281d4b6",
   "metadata": {},
   "outputs": [
    {
     "name": "stdout",
     "output_type": "stream",
     "text": [
      "proc_output:\n",
      "[INFO] Scanning for projects...\n",
      "[INFO] \n",
      "[INFO] -------------------< de.learnlib:learnlib-examples >--------------------\n",
      "[INFO] Building LearnLib :: Examples 0.19.0-SNAPSHOT\n",
      "[INFO]   from pom.xml\n",
      "[INFO] --------------------------------[ jar ]---------------------------------\n",
      "[INFO] \n",
      "[INFO] --- clean:3.4.0:clean (default-clean) @ learnlib-examples ---\n",
      "[INFO] Deleting /home/michal/Documents/edu/studia2/learnlib/examples/target\n",
      "[INFO] \n",
      "[INFO] --- resources:3.3.1:resources (default-resources) @ learnlib-examples ---\n",
      "[INFO] Copying 2 resources from src/main/resources to target/classes\n",
      "[INFO] \n",
      "[INFO] --- compiler:3.11.0:compile (default-compile) @ learnlib-examples ---\n",
      "[INFO] Changes detected - recompiling the module! :source\n",
      "[INFO] Compiling 25 source files with javac [debug release 9 module-path] to target/classes\n",
      "[INFO] /home/michal/Documents/edu/studia2/learnlib/examples/src/main/java/de/learnlib/example/LstarExample_conv_withAS.java: Some input files use unchecked or unsafe operations.\n",
      "[INFO] /home/michal/Documents/edu/studia2/learnlib/examples/src/main/java/de/learnlib/example/LstarExample_conv_withAS.java: Recompile with -Xlint:unchecked for details.\n",
      "[INFO] \n",
      "[INFO] --- compiler:3.11.0:compile (java-8-compile) @ learnlib-examples ---\n",
      "[INFO] Changes detected - recompiling the module! :input tree\n",
      "[INFO] Compiling 24 source files with javac [debug release 8] to target/classes\n",
      "[INFO] /home/michal/Documents/edu/studia2/learnlib/examples/src/main/java/de/learnlib/example/LstarExample_conv_withAS.java: Some input files use unchecked or unsafe operations.\n",
      "[INFO] /home/michal/Documents/edu/studia2/learnlib/examples/src/main/java/de/learnlib/example/LstarExample_conv_withAS.java: Recompile with -Xlint:unchecked for details.\n",
      "[INFO] \n",
      "[INFO] --- resources:3.3.1:testResources (default-testResources) @ learnlib-examples ---\n",
      "[INFO] skip non existing resourceDirectory /home/michal/Documents/edu/studia2/learnlib/examples/src/test/resources\n",
      "[INFO] \n",
      "[INFO] --- compiler:3.11.0:testCompile (default-testCompile) @ learnlib-examples ---\n",
      "[INFO] Changes detected - recompiling the module! :dependency\n",
      "[INFO] Compiling 1 source file with javac [debug release 11 module-path] to target/test-classes\n",
      "[INFO] \n",
      "[INFO] --- surefire:3.5.2:test (default-test) @ learnlib-examples ---\n",
      "[INFO] Using auto detected provider org.apache.maven.surefire.junitplatform.JUnitPlatformProvider\n",
      "[INFO] \n",
      "[INFO] -------------------------------------------------------\n",
      "[INFO]  T E S T S\n",
      "[INFO] -------------------------------------------------------\n",
      "[INFO] \n",
      "[INFO] Results:\n",
      "[INFO] \n",
      "[INFO] Tests run: 0, Failures: 0, Errors: 0, Skipped: 0\n",
      "[INFO] \n",
      "[INFO] \n",
      "[INFO] --- jar:3.4.2:jar (default-jar) @ learnlib-examples ---\n",
      "[INFO] Building jar: /home/michal/Documents/edu/studia2/learnlib/examples/target/learnlib-examples-0.19.0-SNAPSHOT.jar\n",
      "[INFO] \n",
      "[INFO] --- install:3.1.3:install (default-install) @ learnlib-examples ---\n",
      "[INFO] Installing /home/michal/Documents/edu/studia2/learnlib/examples/pom.xml to /home/michal/.m2/repository/de/learnlib/learnlib-examples/0.19.0-SNAPSHOT/learnlib-examples-0.19.0-SNAPSHOT.pom\n",
      "[INFO] Installing /home/michal/Documents/edu/studia2/learnlib/examples/target/learnlib-examples-0.19.0-SNAPSHOT.jar to /home/michal/.m2/repository/de/learnlib/learnlib-examples/0.19.0-SNAPSHOT/learnlib-examples-0.19.0-SNAPSHOT.jar\n",
      "[INFO] ------------------------------------------------------------------------\n",
      "[INFO] BUILD SUCCESS\n",
      "[INFO] ------------------------------------------------------------------------\n",
      "[INFO] Total time:  6.397 s\n",
      "[INFO] Finished at: 2025-07-17T19:37:46+02:00\n",
      "[INFO] ------------------------------------------------------------------------\n",
      "\n"
     ]
    }
   ],
   "source": [
    "helper = RunLearnLib()\n",
    "helper.compileLearnLib()"
   ]
  },
  {
   "cell_type": "code",
   "execution_count": null,
   "id": "0b2b2bcf",
   "metadata": {},
   "outputs": [
    {
     "name": "stdout",
     "output_type": "stream",
     "text": [
      "/home/michal/Documents/edu/studia2/magisterka/utils/test\n"
     ]
    }
   ],
   "source": [
    "import os\n",
    "\n",
    "cwd = os.getcwd()\n",
    "name = os.path.abspath()\n",
    "# print(cwd)\n",
    "print(cwd_examples)"
   ]
  }
 ],
 "metadata": {
  "kernelspec": {
   "display_name": "Python 3",
   "language": "python",
   "name": "python3"
  },
  "language_info": {
   "codemirror_mode": {
    "name": "ipython",
    "version": 3
   },
   "file_extension": ".py",
   "mimetype": "text/x-python",
   "name": "python",
   "nbconvert_exporter": "python",
   "pygments_lexer": "ipython3",
   "version": "3.10.12"
  }
 },
 "nbformat": 4,
 "nbformat_minor": 5
}
