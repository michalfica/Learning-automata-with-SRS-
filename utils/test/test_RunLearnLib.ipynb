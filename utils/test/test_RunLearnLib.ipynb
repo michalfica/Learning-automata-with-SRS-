{
 "cells": [
  {
   "cell_type": "code",
   "execution_count": 148,
   "id": "b1b26dce",
   "metadata": {},
   "outputs": [],
   "source": [
    "import sys\n",
    "\n",
    "sys.path.append(\"../\")\n",
    "sys.path.append(\"../../utils\")\n",
    "\n",
    "from importlib import reload\n",
    "\n",
    "# ..............................................\n",
    "import runLearnLib.RunLearnLib as RunLearnLib\n",
    "reload(RunLearnLib)\n",
    "\n",
    "from runLearnLib.RunLearnLib import RunLearnLib\n",
    "# .............................................."
   ]
  },
  {
   "cell_type": "code",
   "execution_count": 149,
   "id": "7281d4b6",
   "metadata": {},
   "outputs": [],
   "source": [
    "helper = RunLearnLib()\n",
    "helper.compileLearnLib()"
   ]
  },
  {
   "cell_type": "code",
   "execution_count": null,
   "id": "0b2b2bcf",
   "metadata": {},
   "outputs": [
    {
     "name": "stdout",
     "output_type": "stream",
     "text": [
      "/home/michal/Documents/edu/studia2/magisterka/utils/test\n"
     ]
    }
   ],
   "source": [
    "import os\n",
    "\n",
    "cwd = os.getcwd()\n",
    "name = os.path.abspath()\n",
    "# print(cwd)\n",
    "print(cwd_examples)"
   ]
  }
 ],
 "metadata": {
  "kernelspec": {
   "display_name": "Python 3",
   "language": "python",
   "name": "python3"
  },
  "language_info": {
   "codemirror_mode": {
    "name": "ipython",
    "version": 3
   },
   "file_extension": ".py",
   "mimetype": "text/x-python",
   "name": "python",
   "nbconvert_exporter": "python",
   "pygments_lexer": "ipython3",
   "version": "3.10.12"
  }
 },
 "nbformat": 4,
 "nbformat_minor": 5
}
