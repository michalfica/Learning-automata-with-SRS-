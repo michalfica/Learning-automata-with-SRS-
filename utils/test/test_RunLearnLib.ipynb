{
 "cells": [
  {
   "cell_type": "code",
   "execution_count": 119,
   "id": "b1b26dce",
   "metadata": {},
   "outputs": [],
   "source": [
    "import sys\n",
    "\n",
    "sys.path.append(\"../\")\n",
    "sys.path.append(\"../../utils\")\n",
    "\n",
    "from importlib import reload\n",
    "\n",
    "# nie rozmiem tego .............................\n",
    "import runLearnLib.RunLearnLib as RunLearnLib\n",
    "reload(RunLearnLib)\n",
    "\n",
    "from runLearnLib.RunLearnLib import RunLearnLib\n",
    "# .............................................."
   ]
  },
  {
   "cell_type": "code",
   "execution_count": 120,
   "id": "7281d4b6",
   "metadata": {},
   "outputs": [
    {
     "ename": "AssertionError",
     "evalue": "Compilation error during 'mvn clean install'",
     "output_type": "error",
     "traceback": [
      "\u001b[0;31m---------------------------------------------------------------------------\u001b[0m",
      "\u001b[0;31mAssertionError\u001b[0m                            Traceback (most recent call last)",
      "Cell \u001b[0;32mIn[120], line 2\u001b[0m\n\u001b[1;32m      1\u001b[0m helper \u001b[38;5;241m=\u001b[39m RunLearnLib()\n\u001b[0;32m----> 2\u001b[0m _ \u001b[38;5;241m=\u001b[39m \u001b[43mhelper\u001b[49m\u001b[38;5;241;43m.\u001b[39;49m\u001b[43mcompileLearnLib\u001b[49m\u001b[43m(\u001b[49m\u001b[43m)\u001b[49m\n",
      "File \u001b[0;32m~/Documents/edu/studia2/magisterka/utils/test/../runLearnLib/RunLearnLib.py:45\u001b[0m, in \u001b[0;36mRunLearnLib.compileLearnLib\u001b[0;34m(self)\u001b[0m\n\u001b[1;32m     43\u001b[0m proc_output \u001b[38;5;241m=\u001b[39m proc\u001b[38;5;241m.\u001b[39mstdout\n\u001b[1;32m     44\u001b[0m compErr \u001b[38;5;241m=\u001b[39m proc_output\u001b[38;5;241m.\u001b[39mfind(\u001b[38;5;28mself\u001b[39m\u001b[38;5;241m.\u001b[39mCOMPILATION_ERR)\n\u001b[0;32m---> 45\u001b[0m \u001b[38;5;28;01massert\u001b[39;00m compErr \u001b[38;5;241m==\u001b[39m \u001b[38;5;241m-\u001b[39m\u001b[38;5;241m1\u001b[39m, \u001b[38;5;124m\"\u001b[39m\u001b[38;5;124mCompilation error during \u001b[39m\u001b[38;5;124m'\u001b[39m\u001b[38;5;124mmvn clean install\u001b[39m\u001b[38;5;124m'\u001b[39m\u001b[38;5;124m\"\u001b[39m\n\u001b[1;32m     47\u001b[0m \u001b[38;5;28;01mreturn\u001b[39;00m \u001b[38;5;28;01mTrue\u001b[39;00m\n",
      "\u001b[0;31mAssertionError\u001b[0m: Compilation error during 'mvn clean install'"
     ]
    }
   ],
   "source": [
    "helper = RunLearnLib()\n",
    "_ = helper.compileLearnLib()"
   ]
  },
  {
   "cell_type": "code",
   "execution_count": null,
   "id": "0b2b2bcf",
   "metadata": {},
   "outputs": [
    {
     "name": "stdout",
     "output_type": "stream",
     "text": [
      "/home/michal/Documents/edu/studia2/magisterka/utils/test\n"
     ]
    }
   ],
   "source": [
    "import os\n",
    "\n",
    "cwd = os.getcwd()\n",
    "name = os.path.abspath()\n",
    "# print(cwd)\n",
    "print(cwd_examples)"
   ]
  }
 ],
 "metadata": {
  "kernelspec": {
   "display_name": "Python 3",
   "language": "python",
   "name": "python3"
  },
  "language_info": {
   "codemirror_mode": {
    "name": "ipython",
    "version": 3
   },
   "file_extension": ".py",
   "mimetype": "text/x-python",
   "name": "python",
   "nbconvert_exporter": "python",
   "pygments_lexer": "ipython3",
   "version": "3.10.12"
  }
 },
 "nbformat": 4,
 "nbformat_minor": 5
}
